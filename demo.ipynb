{
 "cells": [
  {
   "cell_type": "code",
   "execution_count": 20,
   "metadata": {},
   "outputs": [],
   "source": [
    "from nynefni import Nynefni"
   ]
  },
  {
   "cell_type": "code",
   "execution_count": 38,
   "metadata": {},
   "outputs": [],
   "source": [
    "test = Nynefni(language='IS', category='hryssur', unique=True)"
   ]
  },
  {
   "cell_type": "code",
   "execution_count": 8,
   "metadata": {},
   "outputs": [
    {
     "name": "stdout",
     "output_type": "stream",
     "text": [
      "Mósálfurhnappur\n",
      "Vargeisli\n",
      "Ljónn\n",
      "Bakkur\n",
      "Drottir\n",
      "Hann\n",
      "Kvelnir\n",
      "Krattingur\n",
      "Víglusper\n",
      "Gunnugur\n"
     ]
    }
   ],
   "source": [
    "for _ in range(10):\n",
    "    print(test.generate_name())"
   ]
  },
  {
   "cell_type": "code",
   "execution_count": 4,
   "metadata": {},
   "outputs": [],
   "source": [
    "test.mix_language('IS', 'male', weight=3)"
   ]
  },
  {
   "cell_type": "code",
   "execution_count": 5,
   "metadata": {},
   "outputs": [
    {
     "data": {
      "text/plain": [
       "False"
      ]
     },
     "execution_count": 5,
     "metadata": {},
     "output_type": "execute_result"
    }
   ],
   "source": [
    "'Guðjón' in test.names"
   ]
  },
  {
   "cell_type": "code",
   "execution_count": 41,
   "metadata": {},
   "outputs": [
    {
     "name": "stdout",
     "output_type": "stream",
     "text": [
      "Guðjóni\n",
      "Sveindri\n",
      "Dansil\n",
      "Gísli\n",
      "Egils\n",
      "Steinn\n",
      "Rauðfinn\n",
      "Frímur\n",
      "Kristódon\n",
      "Sölvi\n"
     ]
    }
   ],
   "source": [
    "for _ in range(10):\n",
    "    print(test.generate_name())"
   ]
  },
  {
   "cell_type": "code",
   "execution_count": 6,
   "metadata": {},
   "outputs": [
    {
     "name": "stdout",
     "output_type": "stream",
     "text": [
      "Bifra\n",
      "Brittnine\n",
      "Barós\n",
      "Birgja\n",
      "Barbrá\n",
      "Barbro\n",
      "Birgitti\n",
      "Berghilde\n",
      "Bianne\n",
      "Birgjöfn\n"
     ]
    }
   ],
   "source": [
    "for _ in range(10):\n",
    "    print(test.generate_name('B'))"
   ]
  },
  {
   "cell_type": "code",
   "execution_count": 46,
   "metadata": {},
   "outputs": [],
   "source": [
    "test.influence_model(['Brúnskjótt'], weight=10)"
   ]
  },
  {
   "cell_type": "code",
   "execution_count": 49,
   "metadata": {},
   "outputs": [
    {
     "name": "stdout",
     "output_type": "stream",
     "text": [
      "Boðung\n",
      "Stelja\n",
      "Bjála\n",
      "Bólfasemd\n",
      "Brúnska\n",
      "Brúðurtekt\n",
      "Brynd\n",
      "Bredikun\n",
      "Brúnskolla\n",
      "Búkollgáta\n"
     ]
    }
   ],
   "source": [
    "for _ in range(10):\n",
    "    print(test.generate_name())"
   ]
  },
  {
   "cell_type": "code",
   "execution_count": null,
   "metadata": {},
   "outputs": [],
   "source": []
  },
  {
   "cell_type": "code",
   "execution_count": null,
   "metadata": {},
   "outputs": [],
   "source": []
  }
 ],
 "metadata": {
  "kernelspec": {
   "display_name": "Python 3",
   "language": "python",
   "name": "python3"
  },
  "language_info": {
   "codemirror_mode": {
    "name": "ipython",
    "version": 3
   },
   "file_extension": ".py",
   "mimetype": "text/x-python",
   "name": "python",
   "nbconvert_exporter": "python",
   "pygments_lexer": "ipython3",
   "version": "3.6.4"
  }
 },
 "nbformat": 4,
 "nbformat_minor": 2
}
