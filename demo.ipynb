{
 "cells": [
  {
   "cell_type": "markdown",
   "metadata": {},
   "source": [
    "# Nynefni"
   ]
  },
  {
   "cell_type": "code",
   "execution_count": 1,
   "metadata": {},
   "outputs": [],
   "source": [
    "from nynefni import Nynefni"
   ]
  },
  {
   "cell_type": "markdown",
   "metadata": {},
   "source": [
    "Let's start by creating new Icelandic male names"
   ]
  },
  {
   "cell_type": "code",
   "execution_count": 2,
   "metadata": {},
   "outputs": [],
   "source": [
    "model = Nynefni(language='IS', category='male', unique=True)"
   ]
  },
  {
   "cell_type": "code",
   "execution_count": 3,
   "metadata": {},
   "outputs": [
    {
     "name": "stdout",
     "output_type": "stream",
     "text": [
      "Péturla\n",
      "Benjar\n",
      "Jökuldar\n",
      "Marg\n",
      "Martmannar\n",
      "Kristi\n",
      "Þorgir\n",
      "Bjartan\n",
      "Ragnús\n",
      "Erleifur\n"
     ]
    }
   ],
   "source": [
    "for _ in range(10):\n",
    "    print(model.generate_name())"
   ]
  },
  {
   "cell_type": "markdown",
   "metadata": {},
   "source": [
    "Set constraints on generation"
   ]
  },
  {
   "cell_type": "code",
   "execution_count": 4,
   "metadata": {},
   "outputs": [
    {
     "name": "stdout",
     "output_type": "stream",
     "text": [
      "Bjar\n",
      "Birgill\n",
      "Brekur\n",
      "Brynjartan\n",
      "Baldimar\n",
      "Brynjamín\n",
      "Benediktor\n",
      "Brynjarni\n",
      "Bjarkús\n",
      "Björleifur\n"
     ]
    }
   ],
   "source": [
    "for _ in range(10):\n",
    "    print(model.generate_name('B'))"
   ]
  },
  {
   "cell_type": "code",
   "execution_count": 5,
   "metadata": {},
   "outputs": [
    {
     "name": "stdout",
     "output_type": "stream",
     "text": [
      "Dagurður\n",
      "Daggert\n",
      "Darr\n",
      "Dagurjón\n",
      "Darry\n",
      "Daníels\n",
      "Dagbjarni\n",
      "Dagurbjörtur\n",
      "Dagurbjarni\n",
      "Dagbjar\n"
     ]
    }
   ],
   "source": [
    "for _ in range(10):\n",
    "    print(model.generate_name('Da'))"
   ]
  },
  {
   "cell_type": "markdown",
   "metadata": {},
   "source": [
    "Icelandic female names"
   ]
  },
  {
   "cell_type": "code",
   "execution_count": 6,
   "metadata": {},
   "outputs": [],
   "source": [
    "model = Nynefni(language='IS', category='female', unique=True)"
   ]
  },
  {
   "cell_type": "code",
   "execution_count": 7,
   "metadata": {},
   "outputs": [
    {
     "name": "stdout",
     "output_type": "stream",
     "text": [
      "Christín\n",
      "Ranna\n",
      "Sunn\n",
      "Salómkvistín\n",
      "Indís\n",
      "Aðalbjördís\n",
      "Kris\n",
      "Bryndína\n",
      "Íristín\n",
      "Guðbjördís\n"
     ]
    }
   ],
   "source": [
    "for _ in range(10):\n",
    "    print(model.generate_name())"
   ]
  },
  {
   "cell_type": "markdown",
   "metadata": {},
   "source": [
    "Here we mix Swedish female names into the model."
   ]
  },
  {
   "cell_type": "code",
   "execution_count": 8,
   "metadata": {},
   "outputs": [],
   "source": [
    "model.mix_language('SE', 'female', weight=1)"
   ]
  },
  {
   "cell_type": "code",
   "execution_count": 9,
   "metadata": {},
   "outputs": [
    {
     "name": "stdout",
     "output_type": "stream",
     "text": [
      "Þórhilda\n",
      "Franca\n",
      "Kristger\n",
      "Sanda\n",
      "Molly\n",
      "Isabet\n",
      "Margareta\n",
      "Ines\n",
      "Bianciscilia\n",
      "Ingegerður\n"
     ]
    }
   ],
   "source": [
    "for _ in range(10):\n",
    "    print(model.generate_name())"
   ]
  },
  {
   "cell_type": "markdown",
   "metadata": {},
   "source": [
    "Make the mix more swedish "
   ]
  },
  {
   "cell_type": "code",
   "execution_count": 10,
   "metadata": {},
   "outputs": [],
   "source": [
    "model.mix_language('SE', 'female', weight=3)"
   ]
  },
  {
   "cell_type": "code",
   "execution_count": 11,
   "metadata": {},
   "outputs": [
    {
     "name": "stdout",
     "output_type": "stream",
     "text": [
      "Linnéa\n",
      "Kataría\n",
      "Jolin\n",
      "Hrafina\n",
      "Elisabet\n",
      "Kristina\n",
      "Kerstin\n",
      "Elzbiette\n",
      "Gunilla\n",
      "Marin\n"
     ]
    }
   ],
   "source": [
    "for _ in range(10):\n",
    "    print(model.generate_name())"
   ]
  },
  {
   "cell_type": "markdown",
   "metadata": {},
   "source": [
    "A model for Icelandic female horses"
   ]
  },
  {
   "cell_type": "code",
   "execution_count": 12,
   "metadata": {},
   "outputs": [],
   "source": [
    "model = Nynefni(language='IS', category='hryssur', unique=False)"
   ]
  },
  {
   "cell_type": "code",
   "execution_count": 13,
   "metadata": {},
   "outputs": [
    {
     "name": "stdout",
     "output_type": "stream",
     "text": [
      "Maggalöpp\n",
      "Tryggja\n",
      "Gandrós\n",
      "Elja\n",
      "Gerpla\n",
      "Fjalla\n",
      "Eftirstjarna\n",
      "Þaka\n",
      "Skrúð\n",
      "Stórsmörk\n"
     ]
    }
   ],
   "source": [
    "for _ in range(10):\n",
    "    print(model.generate_name())"
   ]
  },
  {
   "cell_type": "markdown",
   "metadata": {},
   "source": [
    "The model can take a list of names to influence the name generation"
   ]
  },
  {
   "cell_type": "code",
   "execution_count": 14,
   "metadata": {},
   "outputs": [],
   "source": [
    "model.influence_model(['Jarpótt'], weight=10)"
   ]
  },
  {
   "cell_type": "code",
   "execution_count": 15,
   "metadata": {},
   "outputs": [
    {
     "name": "stdout",
     "output_type": "stream",
     "text": [
      "Jarpótt\n",
      "Dís\n",
      "Jarptoppa\n",
      "Jobba\n",
      "Krá\n",
      "Plata\n",
      "Frossbrá\n",
      "Jatla\n",
      "Jata\n",
      "Júlla\n"
     ]
    }
   ],
   "source": [
    "for _ in range(10):\n",
    "    print(model.generate_name())"
   ]
  },
  {
   "cell_type": "code",
   "execution_count": 16,
   "metadata": {},
   "outputs": [],
   "source": [
    "model.influence_model(['Klara', 'Unnur'], weight=10)"
   ]
  },
  {
   "cell_type": "code",
   "execution_count": 17,
   "metadata": {},
   "outputs": [
    {
     "name": "stdout",
     "output_type": "stream",
     "text": [
      "Una\n",
      "Kareykning\n",
      "Knörð\n",
      "Unnur\n",
      "Klara\n",
      "Knör\n",
      "Urður\n",
      "Krisskjalla\n",
      "Harpstjarna\n",
      "Urta\n"
     ]
    }
   ],
   "source": [
    "for _ in range(10):\n",
    "    print(model.generate_name())"
   ]
  }
 ],
 "metadata": {
  "kernelspec": {
   "display_name": "Python 3",
   "language": "python",
   "name": "python3"
  },
  "language_info": {
   "codemirror_mode": {
    "name": "ipython",
    "version": 3
   },
   "file_extension": ".py",
   "mimetype": "text/x-python",
   "name": "python",
   "nbconvert_exporter": "python",
   "pygments_lexer": "ipython3",
   "version": "3.6.4"
  }
 },
 "nbformat": 4,
 "nbformat_minor": 2
}
